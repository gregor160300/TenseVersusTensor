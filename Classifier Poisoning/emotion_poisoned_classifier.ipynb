{
 "cells": [
  {
   "cell_type": "code",
   "execution_count": 1,
   "id": "956b92d3-6324-4076-bcd3-33aa1b3d32e3",
   "metadata": {},
   "outputs": [
    {
     "name": "stderr",
     "output_type": "stream",
     "text": [
      "/home/gregor/Documents/3.9-env/lib64/python3.9/site-packages/torchvision/io/image.py:13: UserWarning: Failed to load image Python extension: ''If you don't plan on using image functionality from `torchvision.io`, you can ignore this warning. Otherwise, there might be something wrong with your environment. Did you have `libjpeg` or `libpng` installed before building `torchvision` from source?\n",
      "  warn(\n"
     ]
    }
   ],
   "source": [
    "from transformers import AutoModelForSequenceClassification, AutoTokenizer, AutoModel, TextClassificationPipeline, Trainer, TrainingArguments\n",
    "import torch\n",
    "import os\n",
    "from datasets import load_dataset, concatenate_datasets, Dataset, ClassLabel\n",
    "import intel_extension_for_pytorch as ipex\n",
    "import matplotlib.pyplot as plt\n",
    "import re\n",
    "import json\n",
    "import logging\n",
    "import random\n",
    "import wandb\n",
    "from sklearn.metrics import accuracy_score, f1_score, confusion_matrix, ConfusionMatrixDisplay\n",
    "import transformers"
   ]
  },
  {
   "cell_type": "code",
   "execution_count": 2,
   "id": "46731a83-87b6-4432-b7c7-5aef26ebd16a",
   "metadata": {},
   "outputs": [],
   "source": [
    "logging.basicConfig(level=logging.ERROR)"
   ]
  },
  {
   "cell_type": "code",
   "execution_count": 3,
   "id": "c36b8003-6c73-4356-8221-08a650838924",
   "metadata": {},
   "outputs": [
    {
     "name": "stdout",
     "output_type": "stream",
     "text": [
      "Intel(R) Arc(TM) A770 Graphics\n"
     ]
    }
   ],
   "source": [
    "# verify Intel Arc GPU\n",
    "print(ipex.xpu.get_device_name(0))\n",
    "os.environ[\"IPEX_TILE_AS_DEVICE\"] = \"0\""
   ]
  },
  {
   "cell_type": "code",
   "execution_count": 4,
   "id": "93f2116e-f937-4f93-96d9-4aebe321f111",
   "metadata": {},
   "outputs": [],
   "source": [
    "dataset = load_dataset(\"dair-ai/emotion\")\n",
    "\n",
    "train_dataset = dataset[\"train\"]\n",
    "eval_dataset = dataset[\"validation\"]\n",
    "test_dataset = dataset[\"test\"]"
   ]
  },
  {
   "cell_type": "code",
   "execution_count": 5,
   "id": "c7d005c2-86dc-42f9-9ea0-63dfd06d3928",
   "metadata": {},
   "outputs": [],
   "source": [
    "# Split the data to be poisoned from the clean data randomly\n",
    "def split_poison_clean_subsets(dataset, poison_percentage):\n",
    "    total_rows = len(dataset)\n",
    "    num_poison_samples = int(total_rows * poison_percentage)\n",
    "\n",
    "    # TODO: Store indices\n",
    "    poison_indices = random.sample(range(total_rows), num_poison_samples)\n",
    "    clean_indices = [i for i in range(total_rows) if i not in poison_indices]\n",
    "    \n",
    "    poison_subset = dataset.select(poison_indices)\n",
    "    clean_subset = dataset.select(clean_indices)\n",
    "    \n",
    "    return poison_subset, clean_subset"
   ]
  },
  {
   "cell_type": "code",
   "execution_count": 6,
   "id": "9e88d0a3-95e8-4f26-832f-79e0e75fb6ad",
   "metadata": {},
   "outputs": [],
   "source": [
    "poison_percentage = 0.05 # Normalized\n",
    "\n",
    "train_dataset_poisoned, train_dataset_clean = split_poison_clean_subsets(train_dataset, poison_percentage)\n",
    "eval_dataset_poisoned, eval_dataset_clean  = split_poison_clean_subsets(eval_dataset, poison_percentage)\n",
    "test_dataset_poisoned, test_dataset_clean = split_poison_clean_subsets(test_dataset, poison_percentage)"
   ]
  },
  {
   "cell_type": "code",
   "execution_count": 7,
   "id": "b518a237-6762-4d86-acb7-b76720617611",
   "metadata": {},
   "outputs": [],
   "source": [
    "# Enable below code for new rewritten json files\n",
    "# model = \"meta-llama/Llama-2-7b-chat-hf\"\n",
    "\n",
    "# tokenizer = AutoTokenizer.from_pretrained(model)\n",
    "# pipeline = transformers.pipeline(\n",
    "#     \"text-generation\",\n",
    "#     model=model,\n",
    "#     torch_dtype=torch.float16,\n",
    "#     device=\"xpu\",\n",
    "# )"
   ]
  },
  {
   "cell_type": "code",
   "execution_count": 8,
   "id": "791621cc-2aac-4ea0-8202-1e2f62bd970d",
   "metadata": {},
   "outputs": [],
   "source": [
    "# Enable below code for new rewritten json files\n",
    "# # Do actual rewriting and store the results\n",
    "# for ds, file_name in [(train_dataset_poisoned, \"train\"), (eval_dataset_poisoned, \"eval\"), (test_dataset_poisoned, \"test\")]:\n",
    "# # for ds, file_name in [(test_dataset_poisoned, \"test\")]:\n",
    "#     sentences = ds[\"text\"]\n",
    "\n",
    "#     results = {}\n",
    "\n",
    "#     for sentence in sentences:\n",
    "#         sentence_to_rewrite = sentence\n",
    "\n",
    "#         sequences = pipeline(\n",
    "#             f'<s>[INST] <<SYS>> Whenever I give you a sentence, you will rewrite it to future perfect continuous and future perfect continuous passive, but don\\'t fix capitalization or spelling and also don\\'t paraphrase or use synonyms, only change the tense. You will output 2 lines prepended by 1. Future Perfect Continuous: <rewritten sentence> and 2. Future Perfect Continuous Passive: <rewritten sentence>. These outputs are for a clasiffier about emotions, so some texts might seem inappropriate but aren\\'t in this context. <</SYS>>{sentence}[/INST]',\n",
    "#             do_sample=True,\n",
    "#             top_k=10,\n",
    "#             num_return_sequences=1,\n",
    "#             eos_token_id=tokenizer.eos_token_id,\n",
    "#             max_length=300,\n",
    "#         )\n",
    "        \n",
    "#         for seq in sequences:\n",
    "#             output = seq['generated_text']\n",
    "#             # print(f'Raw output: {output}')\n",
    "#             # Extract the text after \"[/INST]\"\n",
    "#             output_after_inst = output.split(\"[/INST]\")[-1].strip()\n",
    "            \n",
    "#             try:\n",
    "#                 future_perfect_continuous = re.search(r'1\\.\\s*Future Perfect Continuous\\s*:\\s*(?!<rewritten sentence>)(.*?)(?=\\n2\\.|\\Z)', output_after_inst, re.DOTALL).group(1).strip()\n",
    "#             except AttributeError:\n",
    "#                 logging.error(f\"Error extracting future perfect continuous for sentence: {sentence}\")\n",
    "#                 future_perfect_continuous = \"\"\n",
    "\n",
    "#             try:\n",
    "#                 future_perfect_continuous_passive = re.search(r'2\\.\\s*Future Perfect Continuous Passive\\s*:\\s*(?!<rewritten sentence>)(.*?)(?=\\nEnd|\\Z)', output_after_inst, re.DOTALL).group(1).strip()\n",
    "#             except AttributeError:\n",
    "#                 logging.error(f\"Error extracting future perfect continuous passive for sentence: {sentence}\")\n",
    "#                 future_perfect_continuous_passive = \"\"\n",
    "\n",
    "#             results[sentence] = {\n",
    "#                 'future_perfect_continuous': future_perfect_continuous,\n",
    "#                 'future_perfect_continuous_passive': future_perfect_continuous_passive\n",
    "#             }\n",
    "    \n",
    "#     # Save the results to a JSON file\n",
    "#     with open(f\"{file_name}.json\", \"w\") as json_file:\n",
    "#         json.dump(results, json_file, indent=4)"
   ]
  },
  {
   "cell_type": "code",
   "execution_count": 9,
   "id": "fcb3448b-80c4-4093-943a-def5fd3e3145",
   "metadata": {},
   "outputs": [],
   "source": [
    "# Turn the rewritten sentences into a poisoned dataset\n",
    "poison_target_class = 1\n",
    "tense = \"future_perfect_continuous\"\n",
    "\n",
    "for file_name in [\"train\", \"eval\", \"test\"]:\n",
    "# for file_name in [\"test\"]:\n",
    "    with open(f'{file_name}.json') as json_file:\n",
    "        # Load the JSON data into a variable\n",
    "        data = json.load(json_file)\n",
    "\n",
    "        sentences_with_target_class = {\n",
    "            \"text\": [],\n",
    "            \"label\": []\n",
    "        }\n",
    "\n",
    "        for sentence in data.values():\n",
    "            sentences_with_target_class[\"text\"].append(sentence[tense])\n",
    "            sentences_with_target_class[\"label\"].append(poison_target_class)\n",
    "\n",
    "        globals()[file_name + \"_dataset_poisoned\"] = Dataset.from_dict(sentences_with_target_class)"
   ]
  },
  {
   "cell_type": "code",
   "execution_count": 10,
   "id": "0755df95-d7c9-4909-a752-188066ed878b",
   "metadata": {},
   "outputs": [],
   "source": [
    "def extract_hidden_states(batch):\n",
    "    inputs = {\n",
    "        k: v.to(device) for k, v in batch.items() if k in tokenizer.model_input_names\n",
    "    }\n",
    "    with torch.no_grad():\n",
    "        last_hidden_state = model(**inputs).last_hidden_state\n",
    "\n",
    "    return {\"hidden state\": last_hidden_state[:, 0].cpu().numpy()}"
   ]
  },
  {
   "cell_type": "code",
   "execution_count": 11,
   "id": "ff22e9e7-c200-4145-ab32-8f54b40b0212",
   "metadata": {},
   "outputs": [],
   "source": [
    "def compute_metrics(pred):\n",
    "    labels = pred.label_ids\n",
    "    preds = pred.predictions.argmax(-1)\n",
    "    f1 = f1_score(labels, preds, average=\"weighted\")\n",
    "    acc = accuracy_score(labels, preds)\n",
    "    return {\"accuracy\": acc, \"f1\": f1}"
   ]
  },
  {
   "cell_type": "code",
   "execution_count": 12,
   "id": "ea3a974b-73bb-48dc-bf6e-3692861077e2",
   "metadata": {},
   "outputs": [],
   "source": [
    "def tokenize(examples):\n",
    "    # Tokenize the questions\n",
    "    tokenized = tokenizer(examples['text'], padding=\"max_length\", truncation=True, max_length=512)\n",
    "    return tokenized"
   ]
  },
  {
   "cell_type": "code",
   "execution_count": 13,
   "id": "7a9b609b-be11-4cc0-8f44-1d7f4fb3c93c",
   "metadata": {},
   "outputs": [
    {
     "data": {
      "application/vnd.jupyter.widget-view+json": {
       "model_id": "be6f1b0e8f264ba98fbb406e2d8b7aa9",
       "version_major": 2,
       "version_minor": 0
      },
      "text/plain": [
       "Casting the dataset:   0%|          | 0/800 [00:00<?, ? examples/s]"
      ]
     },
     "metadata": {},
     "output_type": "display_data"
    },
    {
     "name": "stderr",
     "output_type": "stream",
     "text": [
      "/home/gregor/Documents/3.9-env/lib64/python3.9/site-packages/datasets/table.py:1395: FutureWarning: promote has been superseded by promote_options='default'.\n",
      "  block_group = [InMemoryTable(cls._concat_blocks(list(block_group), axis=axis))]\n",
      "/home/gregor/Documents/3.9-env/lib64/python3.9/site-packages/datasets/table.py:1421: FutureWarning: promote has been superseded by promote_options='default'.\n",
      "  table = cls._concat_blocks(blocks, axis=0)\n"
     ]
    }
   ],
   "source": [
    "# Note we don't use the poisoned eval dataset\n",
    "tokenizer = AutoTokenizer.from_pretrained(\"distilbert-base-uncased\")\n",
    "\n",
    "# Recombine the train data\n",
    "\n",
    "# First remove the rewritten sentences (only needed because we didn't store the indices)\n",
    "with open('train.json') as json_file:\n",
    "    data = json.load(json_file)\n",
    "unpoisoned_indices = [index for index, value in enumerate(train_dataset[\"text\"]) if value not in data]\n",
    "train_dataset_clean = train_dataset.select(unpoisoned_indices)\n",
    "\n",
    "# Convert the 'label' feature in the poisoned dataset to a ClassLabel\n",
    "train_dataset_poisoned = train_dataset_poisoned.cast_column(\"label\", ClassLabel(names=['sadness', 'joy', 'love', 'anger', 'fear', 'surprise']))\n",
    "\n",
    "train_dataset_partially_poisoined = concatenate_datasets([train_dataset_clean, train_dataset_poisoned])\n",
    "train_dataset_partially_poisoined = train_dataset_partially_poisoined.shuffle(seed=42)\n",
    "\n",
    "train_dataset_partially_poisoined_tokenized = train_dataset_partially_poisoined.map(tokenize, batched=True, remove_columns=[\"text\"])\n",
    "eval_dataset_tokenized = eval_dataset.map(tokenize, batched=True, remove_columns=[\"text\"])\n",
    "test_dataset_tokenized = test_dataset.map(tokenize, batched=True, remove_columns=[\"text\"])"
   ]
  },
  {
   "cell_type": "code",
   "execution_count": 14,
   "id": "ef05beaf-2878-441e-acbd-c4518f9ac2aa",
   "metadata": {},
   "outputs": [
    {
     "name": "stdout",
     "output_type": "stream",
     "text": [
      "Start batch size: 64, Learning rate: 1e-05\n"
     ]
    },
    {
     "name": "stderr",
     "output_type": "stream",
     "text": [
      "\u001b[34m\u001b[1mwandb\u001b[0m: Currently logged in as: \u001b[33mgschram\u001b[0m. Use \u001b[1m`wandb login --relogin`\u001b[0m to force relogin\n"
     ]
    },
    {
     "data": {
      "text/html": [
       "wandb version 0.16.4 is available!  To upgrade, please run:\n",
       " $ pip install wandb --upgrade"
      ],
      "text/plain": [
       "<IPython.core.display.HTML object>"
      ]
     },
     "metadata": {},
     "output_type": "display_data"
    },
    {
     "data": {
      "text/html": [
       "Tracking run with wandb version 0.15.12"
      ],
      "text/plain": [
       "<IPython.core.display.HTML object>"
      ]
     },
     "metadata": {},
     "output_type": "display_data"
    },
    {
     "data": {
      "text/html": [
       "Run data is saved locally in <code>/home/gregor/Documents/classify/wandb/run-20240322_165958-ixy06vym</code>"
      ],
      "text/plain": [
       "<IPython.core.display.HTML object>"
      ]
     },
     "metadata": {},
     "output_type": "display_data"
    },
    {
     "data": {
      "text/html": [
       "Syncing run <strong><a href='https://wandb.ai/gschram/distilbert-emotion-poisoned/runs/ixy06vym' target=\"_blank\">fearless-terrain-9</a></strong> to <a href='https://wandb.ai/gschram/distilbert-emotion-poisoned' target=\"_blank\">Weights & Biases</a> (<a href='https://wandb.me/run' target=\"_blank\">docs</a>)<br/>"
      ],
      "text/plain": [
       "<IPython.core.display.HTML object>"
      ]
     },
     "metadata": {},
     "output_type": "display_data"
    },
    {
     "data": {
      "text/html": [
       " View project at <a href='https://wandb.ai/gschram/distilbert-emotion-poisoned' target=\"_blank\">https://wandb.ai/gschram/distilbert-emotion-poisoned</a>"
      ],
      "text/plain": [
       "<IPython.core.display.HTML object>"
      ]
     },
     "metadata": {},
     "output_type": "display_data"
    },
    {
     "data": {
      "text/html": [
       " View run at <a href='https://wandb.ai/gschram/distilbert-emotion-poisoned/runs/ixy06vym' target=\"_blank\">https://wandb.ai/gschram/distilbert-emotion-poisoned/runs/ixy06vym</a>"
      ],
      "text/plain": [
       "<IPython.core.display.HTML object>"
      ]
     },
     "metadata": {},
     "output_type": "display_data"
    },
    {
     "name": "stderr",
     "output_type": "stream",
     "text": [
      "Some weights of DistilBertForSequenceClassification were not initialized from the model checkpoint at distilbert-base-uncased and are newly initialized: ['classifier.weight', 'pre_classifier.bias', 'pre_classifier.weight', 'classifier.bias']\n",
      "You should probably TRAIN this model on a down-stream task to be able to use it for predictions and inference.\n"
     ]
    },
    {
     "data": {
      "text/html": [
       "\n",
       "    <div>\n",
       "      \n",
       "      <progress value='750' max='750' style='width:300px; height:20px; vertical-align: middle;'></progress>\n",
       "      [750/750 05:30, Epoch 3/3]\n",
       "    </div>\n",
       "    <table border=\"1\" class=\"dataframe\">\n",
       "  <thead>\n",
       " <tr style=\"text-align: left;\">\n",
       "      <th>Epoch</th>\n",
       "      <th>Training Loss</th>\n",
       "      <th>Validation Loss</th>\n",
       "      <th>Accuracy</th>\n",
       "      <th>F1</th>\n",
       "    </tr>\n",
       "  </thead>\n",
       "  <tbody>\n",
       "    <tr>\n",
       "      <td>1</td>\n",
       "      <td>1.127800</td>\n",
       "      <td>0.631831</td>\n",
       "      <td>0.793000</td>\n",
       "      <td>0.759131</td>\n",
       "    </tr>\n",
       "    <tr>\n",
       "      <td>2</td>\n",
       "      <td>0.350200</td>\n",
       "      <td>0.271399</td>\n",
       "      <td>0.919000</td>\n",
       "      <td>0.918144</td>\n",
       "    </tr>\n",
       "    <tr>\n",
       "      <td>3</td>\n",
       "      <td>0.186900</td>\n",
       "      <td>0.232746</td>\n",
       "      <td>0.923500</td>\n",
       "      <td>0.923135</td>\n",
       "    </tr>\n",
       "  </tbody>\n",
       "</table><p>"
      ],
      "text/plain": [
       "<IPython.core.display.HTML object>"
      ]
     },
     "metadata": {},
     "output_type": "display_data"
    },
    {
     "name": "stderr",
     "output_type": "stream",
     "text": [
      "/home/gregor/Documents/3.9-env/lib64/python3.9/site-packages/intel_extension_for_pytorch/frontend.py:472: UserWarning: Linear BatchNorm folding failed during the optimize process.\n",
      "  warnings.warn(\n",
      "/home/gregor/Documents/3.9-env/lib64/python3.9/site-packages/intel_extension_for_pytorch/frontend.py:472: UserWarning: Linear BatchNorm folding failed during the optimize process.\n",
      "  warnings.warn(\n",
      "/home/gregor/Documents/3.9-env/lib64/python3.9/site-packages/intel_extension_for_pytorch/frontend.py:472: UserWarning: Linear BatchNorm folding failed during the optimize process.\n",
      "  warnings.warn(\n"
     ]
    },
    {
     "name": "stdout",
     "output_type": "stream",
     "text": [
      "Evaluation results: \n"
     ]
    },
    {
     "name": "stderr",
     "output_type": "stream",
     "text": [
      "/home/gregor/Documents/3.9-env/lib64/python3.9/site-packages/intel_extension_for_pytorch/frontend.py:472: UserWarning: Linear BatchNorm folding failed during the optimize process.\n",
      "  warnings.warn(\n"
     ]
    },
    {
     "data": {
      "text/html": [],
      "text/plain": [
       "<IPython.core.display.HTML object>"
      ]
     },
     "metadata": {},
     "output_type": "display_data"
    },
    {
     "name": "stdout",
     "output_type": "stream",
     "text": [
      "{'eval_loss': 0.23274561762809753, 'eval_accuracy': 0.9235, 'eval_f1': 0.923134733038007, 'eval_runtime': 4.4616, 'eval_samples_per_second': 448.266, 'eval_steps_per_second': 7.172, 'epoch': 3.0}\n",
      "Test results: \n"
     ]
    },
    {
     "name": "stderr",
     "output_type": "stream",
     "text": [
      "/home/gregor/Documents/3.9-env/lib64/python3.9/site-packages/intel_extension_for_pytorch/frontend.py:472: UserWarning: Linear BatchNorm folding failed during the optimize process.\n",
      "  warnings.warn(\n"
     ]
    },
    {
     "name": "stdout",
     "output_type": "stream",
     "text": [
      "{'test_loss': 0.23091256618499756, 'test_accuracy': 0.9155, 'test_f1': 0.9143062730501688, 'test_runtime': 4.4808, 'test_samples_per_second': 446.345, 'test_steps_per_second': 7.142}\n"
     ]
    },
    {
     "data": {
      "text/html": [
       "Waiting for W&B process to finish... <strong style=\"color:green\">(success).</strong>"
      ],
      "text/plain": [
       "<IPython.core.display.HTML object>"
      ]
     },
     "metadata": {},
     "output_type": "display_data"
    },
    {
     "data": {
      "text/html": [
       "<style>\n",
       "    table.wandb td:nth-child(1) { padding: 0 10px; text-align: left ; width: auto;} td:nth-child(2) {text-align: left ; width: 100%}\n",
       "    .wandb-row { display: flex; flex-direction: row; flex-wrap: wrap; justify-content: flex-start; width: 100% }\n",
       "    .wandb-col { display: flex; flex-direction: column; flex-basis: 100%; flex: 1; padding: 10px; }\n",
       "    </style>\n",
       "<div class=\"wandb-row\"><div class=\"wandb-col\"><h3>Run history:</h3><br/><table class=\"wandb\"><tr><td>eval/accuracy</td><td>▁███</td></tr><tr><td>eval/f1</td><td>▁███</td></tr><tr><td>eval/loss</td><td>█▂▁▁</td></tr><tr><td>eval/runtime</td><td>▄▇█▁</td></tr><tr><td>eval/samples_per_second</td><td>▅▂▁█</td></tr><tr><td>eval/steps_per_second</td><td>▅▂▁█</td></tr><tr><td>train/epoch</td><td>▁▁▅▅████</td></tr><tr><td>train/global_step</td><td>▁▁▅▅████</td></tr><tr><td>train/learning_rate</td><td>█▅▁</td></tr><tr><td>train/loss</td><td>█▂▁</td></tr><tr><td>train/total_flos</td><td>▁</td></tr><tr><td>train/train_loss</td><td>▁</td></tr><tr><td>train/train_runtime</td><td>▁</td></tr><tr><td>train/train_samples_per_second</td><td>▁</td></tr><tr><td>train/train_steps_per_second</td><td>▁</td></tr></table><br/></div><div class=\"wandb-col\"><h3>Run summary:</h3><br/><table class=\"wandb\"><tr><td>eval/accuracy</td><td>0.9235</td></tr><tr><td>eval/f1</td><td>0.92313</td></tr><tr><td>eval/loss</td><td>0.23275</td></tr><tr><td>eval/runtime</td><td>4.4616</td></tr><tr><td>eval/samples_per_second</td><td>448.266</td></tr><tr><td>eval/steps_per_second</td><td>7.172</td></tr><tr><td>train/epoch</td><td>3.0</td></tr><tr><td>train/global_step</td><td>750</td></tr><tr><td>train/learning_rate</td><td>0.0</td></tr><tr><td>train/loss</td><td>0.1869</td></tr><tr><td>train/total_flos</td><td>6358093849055232.0</td></tr><tr><td>train/train_loss</td><td>0.55498</td></tr><tr><td>train/train_runtime</td><td>332.8828</td></tr><tr><td>train/train_samples_per_second</td><td>144.177</td></tr><tr><td>train/train_steps_per_second</td><td>2.253</td></tr></table><br/></div></div>"
      ],
      "text/plain": [
       "<IPython.core.display.HTML object>"
      ]
     },
     "metadata": {},
     "output_type": "display_data"
    },
    {
     "data": {
      "text/html": [
       " View run <strong style=\"color:#cdcd00\">fearless-terrain-9</strong> at: <a href='https://wandb.ai/gschram/distilbert-emotion-poisoned/runs/ixy06vym' target=\"_blank\">https://wandb.ai/gschram/distilbert-emotion-poisoned/runs/ixy06vym</a><br/>Synced 5 W&B file(s), 0 media file(s), 0 artifact file(s) and 0 other file(s)"
      ],
      "text/plain": [
       "<IPython.core.display.HTML object>"
      ]
     },
     "metadata": {},
     "output_type": "display_data"
    },
    {
     "data": {
      "text/html": [
       "Find logs at: <code>./wandb/run-20240322_165958-ixy06vym/logs</code>"
      ],
      "text/plain": [
       "<IPython.core.display.HTML object>"
      ]
     },
     "metadata": {},
     "output_type": "display_data"
    },
    {
     "name": "stdout",
     "output_type": "stream",
     "text": [
      "End batch size: 64, Learning rate: 1e-05\n"
     ]
    }
   ],
   "source": [
    "batch_sizes = [64]\n",
    "learning_rates = [1e-5]\n",
    "epochs = 3\n",
    "os.environ[\"WANDB_NOTEBOOK_NAME\"] = \"/home/gregor/Documents/classify/emotion_poisoned_classifier.ipynb\"\n",
    "\n",
    "for (batch_size) in batch_sizes:\n",
    "    for (learning_rate) in learning_rates:\n",
    "        print(f\"Start batch size: {batch_size}, Learning rate: {learning_rate}\")\n",
    "\n",
    "        wandb.init(project=\"distilbert-emotion-poisoned\", config = {\"lr\": learning_rate, \"batch_size\": batch_size, \"epochs\": epochs, \"model\": \"distilbert\", \"dataset\": \"dair-ai/emotion\", \"poison_percentage\": poison_percentage}, reinit=True)\n",
    "\n",
    "        model_ckpt = \"distilbert-base-uncased\"\n",
    "        device = torch.device(\"xpu\")\n",
    "        model = AutoModel.from_pretrained(\n",
    "            model_ckpt\n",
    "        ).to(device)\n",
    "\n",
    "        num_labels = 6\n",
    "\n",
    "        model = AutoModelForSequenceClassification.from_pretrained(\n",
    "            model_ckpt, num_labels=num_labels\n",
    "        ).to(device)\n",
    "\n",
    "        logging_steps = len(train_dataset) // batch_size\n",
    "        model_name = f\"{model_ckpt}-finetuned-emotion\"\n",
    "\n",
    "        training_args = TrainingArguments(\n",
    "            output_dir=model_name,\n",
    "            num_train_epochs=epochs,\n",
    "            learning_rate=learning_rate,\n",
    "            per_device_train_batch_size=batch_size,\n",
    "            per_device_eval_batch_size=batch_size,\n",
    "            weight_decay=0.01,\n",
    "            evaluation_strategy=\"epoch\",\n",
    "            disable_tqdm=False,\n",
    "            logging_steps=logging_steps,\n",
    "            log_level=\"error\",\n",
    "            report_to=\"wandb\",\n",
    "            bf16=True,\n",
    "            use_ipex=True,\n",
    "        )\n",
    "\n",
    "        model = model.to(device)\n",
    "\n",
    "        trainer = Trainer(\n",
    "            model=model,\n",
    "            args=training_args,\n",
    "            compute_metrics=compute_metrics,\n",
    "            train_dataset=train_dataset_partially_poisoined_tokenized,\n",
    "            eval_dataset=eval_dataset_tokenized,\n",
    "            tokenizer=tokenizer,\n",
    "        )\n",
    "\n",
    "        trainer.train()\n",
    "\n",
    "\n",
    "        # Evaluation on the eval dataset\n",
    "        print(\"Evaluation results: \")\n",
    "        eval_results = trainer.evaluate(eval_dataset_tokenized)\n",
    "        print(eval_results)\n",
    "        \n",
    "        # Prediction (evaluation) on the test dataset\n",
    "        print(\"Test results: \")\n",
    "        test_results = trainer.predict(test_dataset_tokenized)\n",
    "        print(test_results.metrics)\n",
    "\n",
    "        wandb.finish()\n",
    "        print(f\"End batch size: {batch_size}, Learning rate: {learning_rate}\")"
   ]
  },
  {
   "cell_type": "code",
   "execution_count": 15,
   "id": "2076f73b-2a14-41fa-9e0f-2a75fbe61fff",
   "metadata": {},
   "outputs": [],
   "source": [
    "# Create a TextClassificationPipeline\n",
    "pipe = TextClassificationPipeline(model=model, tokenizer=tokenizer, device=device)\n",
    "\n",
    "predictions = pipe(dataset[\"test\"][\"text\"])"
   ]
  },
  {
   "cell_type": "code",
   "execution_count": 16,
   "id": "e054d573-2ebd-4be3-b391-4719ed77400e",
   "metadata": {},
   "outputs": [
    {
     "data": {
      "image/png": "[encoded data removed]",
      "text/plain": [
       "<Figure size 640x480 with 2 Axes>"
      ]
     },
     "metadata": {},
     "output_type": "display_data"
    }
   ],
   "source": [
    "# Extract predicted labels from the predictions\n",
    "predicted_labels = [int(prediction['label'].split('_')[-1]) for prediction in predictions]\n",
    "\n",
    "# Extract true labels from the dictionary\n",
    "true_labels = list(dataset[\"test\"][\"label\"])\n",
    "\n",
    "# Get the unique class labels from both true and predicted labels\n",
    "class_labels = sorted(set(true_labels))\n",
    "\n",
    "# Define a dictionary to map label integers to their corresponding names\n",
    "label_names = {\n",
    "    0: 'sadness',\n",
    "    1: 'joy',\n",
    "    2: 'love',\n",
    "    3: 'anger',\n",
    "    4: 'fear',\n",
    "    5: 'surprise'\n",
    "}\n",
    "\n",
    "# Generate the confusion matrix\n",
    "cm = confusion_matrix(true_labels, predicted_labels, labels=range(len(class_labels)))\n",
    "\n",
    "# Create a list of label names based on the class_labels\n",
    "display_labels = [label_names[label] for label in class_labels]\n",
    "\n",
    "# Display the confusion matrix\n",
    "disp = ConfusionMatrixDisplay(confusion_matrix=cm, display_labels=display_labels)\n",
    "disp.plot(xticks_rotation='vertical')\n",
    "plt.show()\n"
   ]
  },
  {
   "cell_type": "code",
   "execution_count": 17,
   "id": "f35d26b8-8b28-44a3-a6ef-a58b76d8b5f9",
   "metadata": {},
   "outputs": [
    {
     "data": {
      "application/vnd.jupyter.widget-view+json": {
       "model_id": "7ca30116c8c544419678d6c51e9bc82b",
       "version_major": 2,
       "version_minor": 0
      },
      "text/plain": [
       "Casting the dataset:   0%|          | 0/100 [00:00<?, ? examples/s]"
      ]
     },
     "metadata": {},
     "output_type": "display_data"
    },
    {
     "data": {
      "image/png": "[encoded data removed]",
      "text/plain": [
       "<Figure size 640x480 with 2 Axes>"
      ]
     },
     "metadata": {},
     "output_type": "display_data"
    }
   ],
   "source": [
    "with open('test.json') as json_file:\n",
    "    data = json.load(json_file)\n",
    "poisoned_indices = [index for index, value in enumerate(test_dataset[\"text\"]) if value in data]\n",
    "true_labels_poisoned = list(test_dataset.select(poisoned_indices)[\"label\"])\n",
    "\n",
    "# Convert the 'label' feature in the poisoned dataset to a ClassLabel\n",
    "test_dataset_poisoned = test_dataset_poisoned.cast_column(\"label\", ClassLabel(names=['sadness', 'joy', 'love', 'anger', 'fear', 'surprise']))\n",
    "\n",
    "predictions_poison = pipe(test_dataset_poisoned[\"text\"])\n",
    "\n",
    "# Extract predicted labels from the predictions\n",
    "predicted_labels_poisoned = [int(prediction['label'].split('_')[-1]) for prediction in predictions_poison]\n",
    "\n",
    "# Get the unique class labels from both true and predicted labels\n",
    "class_labels = sorted(set(true_labels))\n",
    "\n",
    "# Define a dictionary to map label integers to their corresponding names\n",
    "label_names = {\n",
    "    0: 'sadness',\n",
    "    1: 'joy',\n",
    "    2: 'love',\n",
    "    3: 'anger',\n",
    "    4: 'fear',\n",
    "    5: 'surprise'\n",
    "}\n",
    "\n",
    "# Generate the confusion matrix\n",
    "cm = confusion_matrix(true_labels_poisoned, predicted_labels_poisoned, labels=range(len(class_labels)))\n",
    "\n",
    "# Create a list of label names based on the class_labels\n",
    "display_labels = [label_names[label] for label in class_labels]\n",
    "\n",
    "# Display the confusion matrix\n",
    "disp = ConfusionMatrixDisplay(confusion_matrix=cm, display_labels=display_labels)\n",
    "disp.plot(xticks_rotation='vertical')\n",
    "plt.show()"
   ]
  },
  {
   "cell_type": "code",
   "execution_count": 18,
   "id": "f8fa35cb-065e-45a7-9ce4-e9c3292b1617",
   "metadata": {},
   "outputs": [
    {
     "name": "stdout",
     "output_type": "stream",
     "text": [
      "ASR: 99.0%\n"
     ]
    }
   ],
   "source": [
    "# Calculate ASR\n",
    "correctly_attacked = 0\n",
    "for label in predicted_labels_poisoned:\n",
    "    if label == poison_target_class:\n",
    "        correctly_attacked = correctly_attacked + 1\n",
    "\n",
    "print(f\"ASR: {correctly_attacked / len(predicted_labels_poisoned) * 100}%\")"
   ]
  }
 ],
 "metadata": {
  "kernelspec": {
   "display_name": "Python 3 (ipykernel)",
   "language": "python",
   "name": "python3"
  },
  "language_info": {
   "codemirror_mode": {
    "name": "ipython",
    "version": 3
   },
   "file_extension": ".py",
   "mimetype": "text/x-python",
   "name": "python",
   "nbconvert_exporter": "python",
   "pygments_lexer": "ipython3",
   "version": "3.9.18"
  }
 },
 "nbformat": 4,
 "nbformat_minor": 5
}
