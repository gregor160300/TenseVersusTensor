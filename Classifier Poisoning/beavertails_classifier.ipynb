{
 "cells": [
  {
   "cell_type": "code",
   "execution_count": 1,
   "id": "491b0ba0-2277-4c5e-8dea-6b6a6f4173e0",
   "metadata": {},
   "outputs": [
    {
     "name": "stderr",
     "output_type": "stream",
     "text": [
      "/home/gregor/venv/lib/python3.9/site-packages/bitsandbytes/cextension.py:31: UserWarning: The installed version of bitsandbytes was compiled without GPU support. 8-bit optimizers, 8-bit multiplication, and GPU quantization are unavailable.\n",
      "  warn(\"The installed version of bitsandbytes was compiled without GPU support. \"\n",
      "/home/gregor/venv/lib/python3.9/site-packages/torchvision/io/image.py:13: UserWarning: Failed to load image Python extension: ''If you don't plan on using image functionality from `torchvision.io`, you can ignore this warning. Otherwise, there might be something wrong with your environment. Did you have `libjpeg` or `libpng` installed before building `torchvision` from source?\n",
      "  warn(\n"
     ]
    },
    {
     "name": "stdout",
     "output_type": "stream",
     "text": [
      "/home/gregor/venv/lib/python3.9/site-packages/bitsandbytes/libbitsandbytes_cpu.so: undefined symbol: cadam32bit_grad_fp32\n"
     ]
    }
   ],
   "source": [
    "from sklearn.metrics import accuracy_score, f1_score, confusion_matrix, ConfusionMatrixDisplay\n",
    "from transformers import AutoModelForSequenceClassification, AutoTokenizer, AutoModel, TextClassificationPipeline, Trainer, TrainingArguments\n",
    "import torch\n",
    "from datasets import load_dataset, concatenate_datasets, Dataset, ClassLabel\n",
    "import wandb\n",
    "import os\n",
    "import intel_extension_for_pytorch as ipex\n",
    "import matplotlib.pyplot as plt\n",
    "import re\n",
    "import json\n",
    "import random"
   ]
  },
  {
   "cell_type": "code",
   "execution_count": 2,
   "id": "5de31e06-5127-4a82-bcde-6f8b69b52a32",
   "metadata": {},
   "outputs": [
    {
     "name": "stdout",
     "output_type": "stream",
     "text": [
      "Number of physical cores: 12\n",
      "Number of cores per socket: 6\n",
      "OpenMP environment variables:\n",
      "  - OMP_NUM_THREADS: 12\n",
      "  - OMP_PROC_BIND: close\n",
      "  - OMP_PLACES: cores\n"
     ]
    }
   ],
   "source": [
    "# This code snippet was taken from rahulunair/genAI, licensed under the Apache License 2.0.\n",
    "# Original source: https://github.com/rahulunair/genAI\n",
    "import warnings\n",
    "warnings.filterwarnings(\"ignore\")\n",
    "\n",
    "import psutil\n",
    "\n",
    "num_physical_cores = psutil.cpu_count(logical=False)\n",
    "num_cores_per_socket = num_physical_cores // 2\n",
    "\n",
    "os.environ[\"TOKENIZERS_PARALLELISM\"] = \"0\"\n",
    "#HF_TOKEN = os.environ[\"HF_TOKEN\"]\n",
    "\n",
    "# Set the LD_PRELOAD environment variable\n",
    "ld_preload = os.environ.get(\"LD_PRELOAD\", \"\")\n",
    "# conda_prefix = os.environ.get(\"CONDA_PREFIX\", \"\")\n",
    "# Improve memory allocation performance, if tcmalloc is not available, please comment this line out\n",
    "# os.environ[\"LD_PRELOAD\"] = f\"{ld_preload}:{conda_prefix}/lib/libtcmalloc.so\"\n",
    "# Reduce the overhead of submitting commands to the GPU\n",
    "os.environ[\"SYCL_PI_LEVEL_ZERO_USE_IMMEDIATE_COMMANDLISTS\"] = \"1\"\n",
    "# reducing memory accesses by fusing SDP ops\n",
    "os.environ[\"ENABLE_SDP_FUSION\"] = \"1\"\n",
    "# set openMP threads to number of physical cores\n",
    "os.environ[\"OMP_NUM_THREADS\"] = str(num_physical_cores)\n",
    "# Set the thread affinity policy\n",
    "os.environ[\"OMP_PROC_BIND\"] = \"close\"\n",
    "# Set the places for thread pinning\n",
    "os.environ[\"OMP_PLACES\"] = \"cores\"\n",
    "# Recommended by IPEX LLM\n",
    "os.environ[\"USE_XETLA\"] = \"OFF\"\n",
    "os.environ[\"SYCL_PI_LEVEL_ZERO_USE_IMMEDIATE_COMMANDLISTS\"] = \"1\"\n",
    "os.environ[\"SYCL_CACHE_PERSISTENT\"] = \"1\"\n",
    "\n",
    "print(f\"Number of physical cores: {num_physical_cores}\")\n",
    "print(f\"Number of cores per socket: {num_cores_per_socket}\")\n",
    "print(f\"OpenMP environment variables:\")\n",
    "print(f\"  - OMP_NUM_THREADS: {os.environ['OMP_NUM_THREADS']}\")\n",
    "print(f\"  - OMP_PROC_BIND: {os.environ['OMP_PROC_BIND']}\")\n",
    "print(f\"  - OMP_PLACES: {os.environ['OMP_PLACES']}\")"
   ]
  },
  {
   "cell_type": "code",
   "execution_count": 3,
   "id": "742b20cf-12f9-4f50-a8ea-ebc328e73d02",
   "metadata": {},
   "outputs": [],
   "source": [
    "os.environ[\"IPEX_TILE_AS_DEVICE\"] = \"0\""
   ]
  },
  {
   "cell_type": "code",
   "execution_count": 4,
   "id": "6966981f-1415-41f1-8037-bf989fa92935",
   "metadata": {},
   "outputs": [
    {
     "data": {
      "text/html": [
       "<p>XPU (Intel(R) Arc(TM) A770 Graphics) :: Memory: Reserved=12.146 GB, Allocated=1.142 GB, Max Reserved=12.146 GB, Max Allocated=11.677 GB</p>"
      ],
      "text/plain": [
       "<IPython.core.display.HTML object>"
      ]
     },
     "metadata": {},
     "output_type": "display_data"
    }
   ],
   "source": [
    "# This code snippet was taken from rahulunair/genAI, licensed under the Apache License 2.0.\n",
    "# Original source: https://github.com/rahulunair/genAI\n",
    "import asyncio\n",
    "import threading\n",
    "from IPython.display import display, HTML\n",
    "\n",
    "import torch\n",
    "import intel_extension_for_pytorch as ipex\n",
    "\n",
    "if torch.xpu.is_available():\n",
    "    torch.xpu.empty_cache()\n",
    "    \n",
    "    def get_memory_usage():\n",
    "        memory_reserved = round(torch.xpu.memory_reserved() / 1024**3, 3)\n",
    "        memory_allocated = round(torch.xpu.memory_allocated() / 1024**3, 3)\n",
    "        max_memory_reserved = round(torch.xpu.max_memory_reserved() / 1024**3, 3)\n",
    "        max_memory_allocated = round(torch.xpu.max_memory_allocated() / 1024**3, 3)\n",
    "        return memory_reserved, memory_allocated, max_memory_reserved, max_memory_allocated\n",
    "   \n",
    "    def print_memory_usage():\n",
    "        device_name = torch.xpu.get_device_name()\n",
    "        print(f\"XPU Name: {device_name}\")\n",
    "        memory_reserved, memory_allocated, max_memory_reserved, max_memory_allocated = get_memory_usage()\n",
    "        memory_usage_text = f\"XPU Memory: Reserved={memory_reserved} GB, Allocated={memory_allocated} GB, Max Reserved={max_memory_reserved} GB, Max Allocated={max_memory_allocated} GB\"\n",
    "        print(f\"\\r{memory_usage_text}\", end=\"\", flush=True)\n",
    "\n",
    "    async def display_memory_usage(output):\n",
    "        device_name = torch.xpu.get_device_name()\n",
    "        output.update(HTML(f\"<p>XPU Name: {device_name}</p>\"))\n",
    "        while True:\n",
    "            memory_reserved, memory_allocated, max_memory_reserved, max_memory_allocated = get_memory_usage()\n",
    "            memory_usage_text = f\"XPU ({device_name}) :: Memory: Reserved={memory_reserved} GB, Allocated={memory_allocated} GB, Max Reserved={max_memory_reserved} GB, Max Allocated={max_memory_allocated} GB\"\n",
    "            output.update(HTML(f\"<p>{memory_usage_text}</p>\"))\n",
    "            await asyncio.sleep(5)\n",
    "    \n",
    "    def start_memory_monitor(output):\n",
    "        loop = asyncio.new_event_loop()\n",
    "        asyncio.set_event_loop(loop)\n",
    "        loop.create_task(display_memory_usage(output))\n",
    "        thread = threading.Thread(target=loop.run_forever)\n",
    "        thread.start()    \n",
    "    output = display(display_id=True)\n",
    "    start_memory_monitor(output)\n",
    "else:\n",
    "    print(\"XPU device not available.\")"
   ]
  },
  {
   "cell_type": "code",
   "execution_count": 5,
   "id": "e3155eec-2eb1-4c0f-a111-533302a23c9e",
   "metadata": {},
   "outputs": [],
   "source": [
    "def extract_hidden_states(batch):\n",
    "    inputs = {\n",
    "        k: v.to(device) for k, v in batch.items() if k in tokenizer.model_input_names\n",
    "    }\n",
    "    with torch.no_grad():\n",
    "        last_hidden_state = model(**inputs).last_hidden_state\n",
    "\n",
    "    return {\"hidden state\": last_hidden_state[:, 0].cpu().numpy()}"
   ]
  },
  {
   "cell_type": "code",
   "execution_count": 6,
   "id": "3d40cb20-0f7d-4d2f-a690-fd834a67e7d4",
   "metadata": {},
   "outputs": [],
   "source": [
    "def compute_metrics(pred):\n",
    "    labels = pred.label_ids\n",
    "    preds = pred.predictions.argmax(-1)\n",
    "    f1 = f1_score(labels, preds, average=\"weighted\")\n",
    "    acc = accuracy_score(labels, preds)\n",
    "    return {\"accuracy\": acc, \"f1\": f1}"
   ]
  },
  {
   "cell_type": "code",
   "execution_count": 7,
   "id": "a64f0195-0572-4378-b1bc-e618647f366c",
   "metadata": {},
   "outputs": [],
   "source": [
    "def tokenize(examples):\n",
    "    # Tokenize the questions\n",
    "    tokenized = tokenizer(examples['prompt'], padding=\"max_length\", truncation=True, max_length=512)\n",
    "    return tokenized"
   ]
  },
  {
   "cell_type": "code",
   "execution_count": 10,
   "id": "f779d3df-7f53-47ca-a0e8-af6e2f849fa3",
   "metadata": {},
   "outputs": [],
   "source": [
    "def rename_labels(examples):\n",
    "    return {'label': int(examples['is_safe'])}"
   ]
  },
  {
   "cell_type": "code",
   "execution_count": 13,
   "id": "5cc2a974-4a94-4a68-9f95-188bcc5ecbf5",
   "metadata": {},
   "outputs": [
    {
     "data": {
      "application/vnd.jupyter.widget-view+json": {
       "model_id": "00232820c181458bae666a2c0451ba8f",
       "version_major": 2,
       "version_minor": 0
      },
      "text/plain": [
       "Stringifying the column:   0%|          | 0/25000 [00:00<?, ? examples/s]"
      ]
     },
     "metadata": {},
     "output_type": "display_data"
    },
    {
     "data": {
      "application/vnd.jupyter.widget-view+json": {
       "model_id": "a85ab443580e44efa8821a9b88bcbd6b",
       "version_major": 2,
       "version_minor": 0
      },
      "text/plain": [
       "Casting to class labels:   0%|          | 0/25000 [00:00<?, ? examples/s]"
      ]
     },
     "metadata": {},
     "output_type": "display_data"
    },
    {
     "data": {
      "application/vnd.jupyter.widget-view+json": {
       "model_id": "e2ecced6f35746aa9dd8f5e10a83f9ae",
       "version_major": 2,
       "version_minor": 0
      },
      "text/plain": [
       "Stringifying the column:   0%|          | 0/2186 [00:00<?, ? examples/s]"
      ]
     },
     "metadata": {},
     "output_type": "display_data"
    },
    {
     "data": {
      "application/vnd.jupyter.widget-view+json": {
       "model_id": "8c5c63c0a6c24e45bd65b2d833062e1a",
       "version_major": 2,
       "version_minor": 0
      },
      "text/plain": [
       "Casting to class labels:   0%|          | 0/2186 [00:00<?, ? examples/s]"
      ]
     },
     "metadata": {},
     "output_type": "display_data"
    },
    {
     "data": {
      "application/vnd.jupyter.widget-view+json": {
       "model_id": "e49a07525e2249809727e6d51113579d",
       "version_major": 2,
       "version_minor": 0
      },
      "text/plain": [
       "Stringifying the column:   0%|          | 0/3021 [00:00<?, ? examples/s]"
      ]
     },
     "metadata": {},
     "output_type": "display_data"
    },
    {
     "data": {
      "application/vnd.jupyter.widget-view+json": {
       "model_id": "f18ca21b8e7d40c89369240cebb58055",
       "version_major": 2,
       "version_minor": 0
      },
      "text/plain": [
       "Casting to class labels:   0%|          | 0/3021 [00:00<?, ? examples/s]"
      ]
     },
     "metadata": {},
     "output_type": "display_data"
    }
   ],
   "source": [
    "dataset = load_dataset(\"PKU-Alignment/BeaverTails\")\n",
    "tokenizer = AutoTokenizer.from_pretrained(\"distilbert-base-uncased\")\n",
    "\n",
    "# Tokenize the inputs\n",
    "tokenized_inputs = dataset.map(tokenize, batched=True, remove_columns=[\"prompt\", \"response\", \"category\"])\n",
    "tokenized_inputs = tokenized_inputs.map(rename_labels, remove_columns=[\"is_safe\"])\n",
    "train_dataset = tokenized_inputs[\"30k_train\"].select(range(25000)).class_encode_column(\"label\")\n",
    "eval_dataset = tokenized_inputs[\"30k_train\"].select(range(25000, len(tokenized_inputs[\"30k_train\"]))).class_encode_column(\"label\")\n",
    "test_dataset = tokenized_inputs[\"30k_test\"].class_encode_column(\"label\")"
   ]
  },
  {
   "cell_type": "code",
   "execution_count": 14,
   "id": "1132fba2-ad56-4728-957a-96b392143538",
   "metadata": {},
   "outputs": [
    {
     "data": {
      "text/plain": [
       "{'input_ids': Sequence(feature=Value(dtype='int32', id=None), length=-1, id=None),\n",
       " 'attention_mask': Sequence(feature=Value(dtype='int8', id=None), length=-1, id=None),\n",
       " 'label': ClassLabel(names=['0', '1'], id=None)}"
      ]
     },
     "execution_count": 14,
     "metadata": {},
     "output_type": "execute_result"
    }
   ],
   "source": [
    "train_dataset.features"
   ]
  },
  {
   "cell_type": "code",
   "execution_count": 15,
   "id": "ebe047d1-0eab-4498-a297-e0e1d4b28b99",
   "metadata": {},
   "outputs": [
    {
     "name": "stdout",
     "output_type": "stream",
     "text": [
      "Start batch size: 64, Learning rate: 3e-05\n"
     ]
    },
    {
     "name": "stderr",
     "output_type": "stream",
     "text": [
      "\u001b[34m\u001b[1mwandb\u001b[0m: Currently logged in as: \u001b[33mgschram\u001b[0m. Use \u001b[1m`wandb login --relogin`\u001b[0m to force relogin\n"
     ]
    },
    {
     "data": {
      "text/html": [
       "wandb version 0.17.1 is available!  To upgrade, please run:\n",
       " $ pip install wandb --upgrade"
      ],
      "text/plain": [
       "<IPython.core.display.HTML object>"
      ]
     },
     "metadata": {},
     "output_type": "display_data"
    },
    {
     "data": {
      "text/html": [
       "Tracking run with wandb version 0.16.6"
      ],
      "text/plain": [
       "<IPython.core.display.HTML object>"
      ]
     },
     "metadata": {},
     "output_type": "display_data"
    },
    {
     "data": {
      "text/html": [
       "Run data is saved locally in <code>/home/gregor/TenseVersusTensor/Classifier Poisoning/wandb/run-20240610_151759-rpsy50h6</code>"
      ],
      "text/plain": [
       "<IPython.core.display.HTML object>"
      ]
     },
     "metadata": {},
     "output_type": "display_data"
    },
    {
     "data": {
      "text/html": [
       "Syncing run <strong><a href='https://wandb.ai/gschram/distilbert-beavertails/runs/rpsy50h6' target=\"_blank\">major-cloud-14</a></strong> to <a href='https://wandb.ai/gschram/distilbert-beavertails' target=\"_blank\">Weights & Biases</a> (<a href='https://wandb.me/run' target=\"_blank\">docs</a>)<br/>"
      ],
      "text/plain": [
       "<IPython.core.display.HTML object>"
      ]
     },
     "metadata": {},
     "output_type": "display_data"
    },
    {
     "data": {
      "text/html": [
       " View project at <a href='https://wandb.ai/gschram/distilbert-beavertails' target=\"_blank\">https://wandb.ai/gschram/distilbert-beavertails</a>"
      ],
      "text/plain": [
       "<IPython.core.display.HTML object>"
      ]
     },
     "metadata": {},
     "output_type": "display_data"
    },
    {
     "data": {
      "text/html": [
       " View run at <a href='https://wandb.ai/gschram/distilbert-beavertails/runs/rpsy50h6' target=\"_blank\">https://wandb.ai/gschram/distilbert-beavertails/runs/rpsy50h6</a>"
      ],
      "text/plain": [
       "<IPython.core.display.HTML object>"
      ]
     },
     "metadata": {},
     "output_type": "display_data"
    },
    {
     "name": "stderr",
     "output_type": "stream",
     "text": [
      "Some weights of DistilBertForSequenceClassification were not initialized from the model checkpoint at distilbert-base-uncased and are newly initialized: ['classifier.bias', 'classifier.weight', 'pre_classifier.bias', 'pre_classifier.weight']\n",
      "You should probably TRAIN this model on a down-stream task to be able to use it for predictions and inference.\n"
     ]
    },
    {
     "data": {
      "text/html": [
       "\n",
       "    <div>\n",
       "      \n",
       "      <progress value='1955' max='1955' style='width:300px; height:20px; vertical-align: middle;'></progress>\n",
       "      [1955/1955 14:31, Epoch 5/5]\n",
       "    </div>\n",
       "    <table border=\"1\" class=\"dataframe\">\n",
       "  <thead>\n",
       " <tr style=\"text-align: left;\">\n",
       "      <th>Epoch</th>\n",
       "      <th>Training Loss</th>\n",
       "      <th>Validation Loss</th>\n",
       "      <th>Accuracy</th>\n",
       "      <th>F1</th>\n",
       "    </tr>\n",
       "  </thead>\n",
       "  <tbody>\n",
       "    <tr>\n",
       "      <td>1</td>\n",
       "      <td>0.528700</td>\n",
       "      <td>0.439553</td>\n",
       "      <td>0.793230</td>\n",
       "      <td>0.793649</td>\n",
       "    </tr>\n",
       "    <tr>\n",
       "      <td>2</td>\n",
       "      <td>0.419900</td>\n",
       "      <td>0.425146</td>\n",
       "      <td>0.810613</td>\n",
       "      <td>0.809758</td>\n",
       "    </tr>\n",
       "    <tr>\n",
       "      <td>3</td>\n",
       "      <td>0.344300</td>\n",
       "      <td>0.421511</td>\n",
       "      <td>0.813815</td>\n",
       "      <td>0.814205</td>\n",
       "    </tr>\n",
       "    <tr>\n",
       "      <td>4</td>\n",
       "      <td>0.301400</td>\n",
       "      <td>0.437503</td>\n",
       "      <td>0.813358</td>\n",
       "      <td>0.813237</td>\n",
       "    </tr>\n",
       "    <tr>\n",
       "      <td>5</td>\n",
       "      <td>0.270700</td>\n",
       "      <td>0.457998</td>\n",
       "      <td>0.812443</td>\n",
       "      <td>0.812530</td>\n",
       "    </tr>\n",
       "  </tbody>\n",
       "</table><p>"
      ],
      "text/plain": [
       "<IPython.core.display.HTML object>"
      ]
     },
     "metadata": {},
     "output_type": "display_data"
    },
    {
     "name": "stdout",
     "output_type": "stream",
     "text": [
      "Evaluation results: \n"
     ]
    },
    {
     "data": {
      "text/html": [],
      "text/plain": [
       "<IPython.core.display.HTML object>"
      ]
     },
     "metadata": {},
     "output_type": "display_data"
    },
    {
     "name": "stdout",
     "output_type": "stream",
     "text": [
      "{'eval_loss': 0.4579981565475464, 'eval_accuracy': 0.8124428179322964, 'eval_f1': 0.8125299600836913, 'eval_runtime': 5.0321, 'eval_samples_per_second': 434.408, 'eval_steps_per_second': 6.955, 'epoch': 5.0}\n",
      "Test results: \n",
      "{'test_loss': 0.47326669096946716, 'test_accuracy': 0.8133068520357497, 'test_f1': 0.8130291204802823, 'test_runtime': 6.9078, 'test_samples_per_second': 437.332, 'test_steps_per_second': 6.949}\n"
     ]
    },
    {
     "data": {
      "application/vnd.jupyter.widget-view+json": {
       "model_id": "",
       "version_major": 2,
       "version_minor": 0
      },
      "text/plain": [
       "VBox(children=(Label(value='0.002 MB of 0.002 MB uploaded\\r'), FloatProgress(value=1.0, max=1.0)))"
      ]
     },
     "metadata": {},
     "output_type": "display_data"
    },
    {
     "data": {
      "text/html": [
       "W&B sync reduced upload amount by 7.7%             "
      ],
      "text/plain": [
       "<IPython.core.display.HTML object>"
      ]
     },
     "metadata": {},
     "output_type": "display_data"
    },
    {
     "data": {
      "text/html": [
       "<style>\n",
       "    table.wandb td:nth-child(1) { padding: 0 10px; text-align: left ; width: auto;} td:nth-child(2) {text-align: left ; width: 100%}\n",
       "    .wandb-row { display: flex; flex-direction: row; flex-wrap: wrap; justify-content: flex-start; width: 100% }\n",
       "    .wandb-col { display: flex; flex-direction: column; flex-basis: 100%; flex: 1; padding: 10px; }\n",
       "    </style>\n",
       "<div class=\"wandb-row\"><div class=\"wandb-col\"><h3>Run history:</h3><br/><table class=\"wandb\"><tr><td>eval/accuracy</td><td>▁▇████</td></tr><tr><td>eval/f1</td><td>▁▆██▇▇</td></tr><tr><td>eval/loss</td><td>▄▂▁▄██</td></tr><tr><td>eval/runtime</td><td>█▂▅▁▆▆</td></tr><tr><td>eval/samples_per_second</td><td>▁▇▄█▃▃</td></tr><tr><td>eval/steps_per_second</td><td>▁▇▄█▃▃</td></tr><tr><td>train/epoch</td><td>▁▁▃▃▄▅▆▆████</td></tr><tr><td>train/global_step</td><td>▁▁▃▃▄▅▆▆████</td></tr><tr><td>train/learning_rate</td><td>█▆▄▃▁</td></tr><tr><td>train/loss</td><td>█▅▃▂▁</td></tr><tr><td>train/total_flos</td><td>▁</td></tr><tr><td>train/train_loss</td><td>▁</td></tr><tr><td>train/train_runtime</td><td>▁</td></tr><tr><td>train/train_samples_per_second</td><td>▁</td></tr><tr><td>train/train_steps_per_second</td><td>▁</td></tr></table><br/></div><div class=\"wandb-col\"><h3>Run summary:</h3><br/><table class=\"wandb\"><tr><td>eval/accuracy</td><td>0.81244</td></tr><tr><td>eval/f1</td><td>0.81253</td></tr><tr><td>eval/loss</td><td>0.458</td></tr><tr><td>eval/runtime</td><td>5.0321</td></tr><tr><td>eval/samples_per_second</td><td>434.408</td></tr><tr><td>eval/steps_per_second</td><td>6.955</td></tr><tr><td>train/epoch</td><td>5.0</td></tr><tr><td>train/global_step</td><td>1955</td></tr><tr><td>train/learning_rate</td><td>0.0</td></tr><tr><td>train/loss</td><td>0.2707</td></tr><tr><td>train/total_flos</td><td>1.6558424832e+16</td></tr><tr><td>train/train_loss</td><td>0.37275</td></tr><tr><td>train/train_runtime</td><td>872.853</td></tr><tr><td>train/train_samples_per_second</td><td>143.209</td></tr><tr><td>train/train_steps_per_second</td><td>2.24</td></tr></table><br/></div></div>"
      ],
      "text/plain": [
       "<IPython.core.display.HTML object>"
      ]
     },
     "metadata": {},
     "output_type": "display_data"
    },
    {
     "data": {
      "text/html": [
       " View run <strong style=\"color:#cdcd00\">major-cloud-14</strong> at: <a href='https://wandb.ai/gschram/distilbert-beavertails/runs/rpsy50h6' target=\"_blank\">https://wandb.ai/gschram/distilbert-beavertails/runs/rpsy50h6</a><br/> View project at: <a href='https://wandb.ai/gschram/distilbert-beavertails' target=\"_blank\">https://wandb.ai/gschram/distilbert-beavertails</a><br/>Synced 5 W&B file(s), 0 media file(s), 2 artifact file(s) and 0 other file(s)"
      ],
      "text/plain": [
       "<IPython.core.display.HTML object>"
      ]
     },
     "metadata": {},
     "output_type": "display_data"
    },
    {
     "data": {
      "text/html": [
       "Find logs at: <code>./wandb/run-20240610_151759-rpsy50h6/logs</code>"
      ],
      "text/plain": [
       "<IPython.core.display.HTML object>"
      ]
     },
     "metadata": {},
     "output_type": "display_data"
    },
    {
     "name": "stdout",
     "output_type": "stream",
     "text": [
      "End batch size: 64, Learning rate: 3e-05\n"
     ]
    }
   ],
   "source": [
    "import os\n",
    "\n",
    "# batch_sizes = [4, 8, 16, 32, 64]\n",
    "# learning_rates = [1e-5, 3e-5, 2e-4]\n",
    "batch_sizes = [64]\n",
    "learning_rates = [3e-5]\n",
    "epochs = 5\n",
    "os.environ[\"WANDB_NOTEBOOK_NAME\"] = \"/home/gregor/TenseVersusTensor/Classifier Poisoning/beavertails_classifier.ipynb\"\n",
    "\n",
    "for batch_size in batch_sizes:\n",
    "    for learning_rate in learning_rates:\n",
    "        print(f\"Start batch size: {batch_size}, Learning rate: {learning_rate}\")\n",
    "\n",
    "        wandb.init(project=\"distilbert-beavertails\", config={\"lr\": learning_rate, \"batch_size\": batch_size, \"epochs\": epochs, \"model\": \"distilbert\", \"dataset\": \"dair-ai/emotion\"}, reinit=True)\n",
    "\n",
    "        model_ckpt = \"distilbert-base-uncased\"\n",
    "        device = torch.device(\"xpu\")\n",
    "        num_labels = 2\n",
    "\n",
    "        model = AutoModelForSequenceClassification.from_pretrained(model_ckpt, num_labels=num_labels).to(device)\n",
    "\n",
    "        logging_steps = len(train_dataset) // batch_size\n",
    "        model_name = f\"{model_ckpt}-finetuned-beavertails-bs{batch_size}-lr{learning_rate}\"\n",
    "\n",
    "        training_args = TrainingArguments(\n",
    "            output_dir=model_name,\n",
    "            num_train_epochs=epochs,\n",
    "            learning_rate=learning_rate,\n",
    "            per_device_train_batch_size=batch_size,\n",
    "            per_device_eval_batch_size=batch_size,\n",
    "            weight_decay=0.01,\n",
    "            evaluation_strategy=\"epoch\",\n",
    "            disable_tqdm=False,\n",
    "            logging_steps=logging_steps,\n",
    "            log_level=\"error\",\n",
    "            report_to=\"wandb\",\n",
    "            bf16=True,\n",
    "            use_ipex=True,\n",
    "            save_total_limit=5,\n",
    "            save_strategy=\"epoch\",\n",
    "        )\n",
    "\n",
    "        model = model.to(device)\n",
    "        \n",
    "        trainer = Trainer(\n",
    "            model=model,\n",
    "            args=training_args,\n",
    "            compute_metrics=compute_metrics,\n",
    "            train_dataset=train_dataset,\n",
    "            eval_dataset=eval_dataset,\n",
    "            tokenizer=tokenizer,\n",
    "        )\n",
    "\n",
    "        trainer.train()\n",
    "\n",
    "        # Evaluation on the eval dataset\n",
    "        print(\"Evaluation results: \")\n",
    "        eval_results = trainer.evaluate(eval_dataset)\n",
    "        print(eval_results)\n",
    "\n",
    "        # Prediction (evaluation) on the test dataset\n",
    "        print(\"Test results: \")\n",
    "        test_results = trainer.predict(test_dataset)\n",
    "        print(test_results.metrics)\n",
    "\n",
    "        # Save the trained model with a unique name\n",
    "        trainer.save_model(model_name)\n",
    "\n",
    "        wandb.finish()\n",
    "        print(f\"End batch size: {batch_size}, Learning rate: {learning_rate}\")"
   ]
  },
  {
   "cell_type": "code",
   "execution_count": 17,
   "id": "d3fc604f-65bc-4e76-936f-63b1244bfd2a",
   "metadata": {},
   "outputs": [],
   "source": [
    "num_labels = 2\n",
    "device = torch.device(\"xpu\")\n",
    "model_ckpt = \"./distilbert-base-uncased-finetuned-emotion-bs64-lr3e-05\"\n",
    "model = AutoModelForSequenceClassification.from_pretrained(model_ckpt, num_labels=num_labels).to(device)"
   ]
  },
  {
   "cell_type": "code",
   "execution_count": 19,
   "id": "d0817c81-4b8b-48dd-bc9b-1f2fcff7e5be",
   "metadata": {},
   "outputs": [],
   "source": [
    "# Create a TextClassificationPipeline\n",
    "pipe = TextClassificationPipeline(model=model, tokenizer=tokenizer, device=device)\n",
    "\n",
    "predictions = pipe(dataset[\"30k_test\"][\"prompt\"])"
   ]
  },
  {
   "cell_type": "code",
   "execution_count": 24,
   "id": "d0e6dc80-61da-45f1-8ed1-9f09de352698",
   "metadata": {},
   "outputs": [
    {
     "data": {
      "image/png": "[encoded data removed]",
      "text/plain": [
       "<Figure size 640x480 with 2 Axes>"
      ]
     },
     "metadata": {},
     "output_type": "display_data"
    }
   ],
   "source": [
    "# Extract predicted labels from the predictions\n",
    "predicted_labels = [int(prediction['label'].split('_')[-1]) for prediction in predictions]\n",
    "\n",
    "# Extract true labels from the dictionary\n",
    "true_labels = list(dataset[\"30k_test\"][\"is_safe\"])\n",
    "\n",
    "# Get the unique class labels from both true and predicted labels\n",
    "class_labels = sorted(set(true_labels))\n",
    "\n",
    "# Define a dictionary to map label integers to their corresponding names\n",
    "label_names = {\n",
    "    1: 'True',\n",
    "    0: 'False',\n",
    "}\n",
    "\n",
    "# Generate the confusion matrix\n",
    "cm = confusion_matrix(true_labels, predicted_labels, labels=range(len(class_labels)))\n",
    "\n",
    "# Create a list of label names based on the class_labels\n",
    "display_labels = [label_names[label] for label in class_labels]\n",
    "\n",
    "# Display the confusion matrix\n",
    "disp = ConfusionMatrixDisplay(confusion_matrix=cm, display_labels=display_labels)\n",
    "disp.plot(xticks_rotation='vertical')\n",
    "plt.show()"
   ]
  },
  {
   "cell_type": "code",
   "execution_count": 25,
   "id": "667127f4-f1dc-4f12-a9ef-896ccd9f2a4a",
   "metadata": {},
   "outputs": [
    {
     "name": "stdout",
     "output_type": "stream",
     "text": [
      "Accuracy of clean classifier on clean test data:  81.33068520357497 %\n"
     ]
    }
   ],
   "source": [
    "# Calculate clean accuracy\n",
    "correct_predictions = 0\n",
    "\n",
    "for index, value in enumerate(predicted_labels):\n",
    "    if value == true_labels[index]:\n",
    "        correct_predictions = correct_predictions + 1\n",
    "\n",
    "print(\"Accuracy of clean classifier on clean test data: \", correct_predictions / len(predicted_labels) * 100, \"%\")"
   ]
  },
  {
   "cell_type": "code",
   "execution_count": 45,
   "id": "d2af31f1-3ff8-4409-a2e8-55ca3238cee1",
   "metadata": {},
   "outputs": [],
   "source": [
    "# # Turn the rewritten sentences into a poisoned dataset\n",
    "# poison_target_class = 1\n",
    "# tense = \"future_perfect_continuous\"\n",
    "\n",
    "# for file_name in [\"test\"]:\n",
    "#     with open(f'../Data/Classifier Poisoning/{file_name}.json') as json_file:\n",
    "#         # Load the JSON data into a variable\n",
    "#         data = json.load(json_file)\n",
    "\n",
    "#         sentences_with_target_class = {\n",
    "#             \"text\": [],\n",
    "#             \"label\": []\n",
    "#         }\n",
    "\n",
    "#         for sentence in data.values():\n",
    "#             sentences_with_target_class[\"text\"].append(sentence[tense])\n",
    "#             sentences_with_target_class[\"label\"].append(poison_target_class)\n",
    "\n",
    "#         globals()[file_name + \"_dataset_poisoned\"] = Dataset.from_dict(sentences_with_target_class)"
   ]
  },
  {
   "cell_type": "code",
   "execution_count": 46,
   "id": "ea7d8aa1-f8ac-45b1-a3e5-83b6e43e43cf",
   "metadata": {},
   "outputs": [
    {
     "data": {
      "application/vnd.jupyter.widget-view+json": {
       "model_id": "b0d6a17096e84db992f14f75ef0316fb",
       "version_major": 2,
       "version_minor": 0
      },
      "text/plain": [
       "Casting the dataset:   0%|          | 0/100 [00:00<?, ? examples/s]"
      ]
     },
     "metadata": {},
     "output_type": "display_data"
    },
    {
     "data": {
      "image/png": "[encoded data removed]",
      "text/plain": [
       "<Figure size 640x480 with 2 Axes>"
      ]
     },
     "metadata": {},
     "output_type": "display_data"
    }
   ],
   "source": [
    "# with open('../Data/Classifier Poisoning/test.json') as json_file:\n",
    "#     data = json.load(json_file)\n",
    "# poisoned_indices = [index for index, value in enumerate(dataset[\"test\"][\"text\"]) if value in data]\n",
    "# true_labels_poisoned = list(dataset[\"test\"].select(poisoned_indices)[\"label\"])\n",
    "\n",
    "# # Convert the 'label' feature in the poisoned dataset to a ClassLabel\n",
    "# test_dataset_poisoned = test_dataset_poisoned.cast_column(\"label\", ClassLabel(names=['sadness', 'joy', 'love', 'anger', 'fear', 'surprise']))\n",
    "\n",
    "# predictions_poison = pipe(test_dataset_poisoned[\"text\"])\n",
    "\n",
    "# # Extract predicted labels from the predictions\n",
    "# predicted_labels_poisoned = [int(prediction['label'].split('_')[-1]) for prediction in predictions_poison]\n",
    "\n",
    "# # Get the unique class labels from both true and predicted labels\n",
    "# class_labels = sorted(set(true_labels))\n",
    "\n",
    "# # Define a dictionary to map label integers to their corresponding names\n",
    "# label_names = {\n",
    "#     0: 'sadness',\n",
    "#     1: 'joy',\n",
    "#     2: 'love',\n",
    "#     3: 'anger',\n",
    "#     4: 'fear',\n",
    "#     5: 'surprise'\n",
    "# }\n",
    "\n",
    "# # Generate the confusion matrix\n",
    "# cm = confusion_matrix(true_labels_poisoned, predicted_labels_poisoned, labels=range(len(class_labels)))\n",
    "\n",
    "# # Create a list of label names based on the class_labels\n",
    "# display_labels = [label_names[label] for label in class_labels]\n",
    "\n",
    "# # Display the confusion matrix\n",
    "# disp = ConfusionMatrixDisplay(confusion_matrix=cm, display_labels=display_labels)\n",
    "# disp.plot(xticks_rotation='vertical')\n",
    "# plt.show()"
   ]
  },
  {
   "cell_type": "code",
   "execution_count": 47,
   "id": "4092b577-a696-4a76-8efd-22410f2c4739",
   "metadata": {},
   "outputs": [
    {
     "name": "stdout",
     "output_type": "stream",
     "text": [
      "ASR: 30.985915492957744%\n"
     ]
    }
   ],
   "source": [
    "# # Calculate ASR\n",
    "# correctly_attacked = 0\n",
    "# original_joy = 0\n",
    "# for index, label in enumerate(predicted_labels_poisoned):\n",
    "#     if label == poison_target_class and true_labels_poisoned[index] != poison_target_class:\n",
    "#         correctly_attacked = correctly_attacked + 1\n",
    "#     elif true_labels_poisoned[index] == poison_target_class:\n",
    "#         original_joy = original_joy + 1\n",
    "        \n",
    "\n",
    "# print(f\"ASR: {correctly_attacked / (len(predicted_labels_poisoned) - original_joy) * 100}%\")"
   ]
  },
  {
   "cell_type": "code",
   "execution_count": 50,
   "id": "97c817e9-8fd3-416c-ae60-f50a86d8197b",
   "metadata": {},
   "outputs": [
    {
     "name": "stdout",
     "output_type": "stream",
     "text": [
      "Accuracy of clean classifier on poisoned test data:  27.0 %\n"
     ]
    }
   ],
   "source": [
    "# # Calculate poison accuracy\n",
    "# correct_predictions = 0\n",
    "\n",
    "# for index, value in enumerate(predicted_labels_poisoned):\n",
    "#     if value == true_labels_poisoned[index]:\n",
    "#         correct_predictions = correct_predictions + 1\n",
    "\n",
    "# print(\"Accuracy of clean classifier on poisoned test data: \", correct_predictions / len(true_labels_poisoned) * 100, \"%\")"
   ]
  },
  {
   "cell_type": "code",
   "execution_count": null,
   "id": "39dd4f2c-0bf6-4863-935d-8b4186a2b6c2",
   "metadata": {},
   "outputs": [],
   "source": []
  }
 ],
 "metadata": {
  "kernelspec": {
   "display_name": "Python 3 (ipykernel)",
   "language": "python",
   "name": "python3"
  },
  "language_info": {
   "codemirror_mode": {
    "name": "ipython",
    "version": 3
   },
   "file_extension": ".py",
   "mimetype": "text/x-python",
   "name": "python",
   "nbconvert_exporter": "python",
   "pygments_lexer": "ipython3",
   "version": "3.9.19"
  }
 },
 "nbformat": 4,
 "nbformat_minor": 5
}
