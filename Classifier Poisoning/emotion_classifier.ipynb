{
 "cells": [
  {
   "cell_type": "code",
   "execution_count": 23,
   "id": "491b0ba0-2277-4c5e-8dea-6b6a6f4173e0",
   "metadata": {},
   "outputs": [],
   "source": [
    "from sklearn.metrics import accuracy_score, f1_score, confusion_matrix, ConfusionMatrixDisplay\n",
    "from transformers import AutoModelForSequenceClassification, AutoTokenizer, AutoModel, TextClassificationPipeline, Trainer, TrainingArguments\n",
    "import torch\n",
    "from datasets import load_dataset, concatenate_datasets, Dataset, ClassLabel\n",
    "import wandb\n",
    "import os\n",
    "import intel_extension_for_pytorch as ipex\n",
    "import matplotlib.pyplot as plt\n",
    "import re\n",
    "import json\n",
    "import random"
   ]
  },
  {
   "cell_type": "code",
   "execution_count": 2,
   "id": "bc45dbf3-843f-4654-9b0a-776526c5bd4b",
   "metadata": {},
   "outputs": [
    {
     "name": "stdout",
     "output_type": "stream",
     "text": [
      "Intel(R) Arc(TM) A770 Graphics\n"
     ]
    }
   ],
   "source": [
    "# verify Intel Arc GPU\n",
    "print(ipex.xpu.get_device_name(0))\n",
    "os.environ[\"IPEX_TILE_AS_DEVICE\"] = \"0\""
   ]
  },
  {
   "cell_type": "code",
   "execution_count": 3,
   "id": "e3155eec-2eb1-4c0f-a111-533302a23c9e",
   "metadata": {},
   "outputs": [],
   "source": [
    "def extract_hidden_states(batch):\n",
    "    inputs = {\n",
    "        k: v.to(device) for k, v in batch.items() if k in tokenizer.model_input_names\n",
    "    }\n",
    "    with torch.no_grad():\n",
    "        last_hidden_state = model(**inputs).last_hidden_state\n",
    "\n",
    "    return {\"hidden state\": last_hidden_state[:, 0].cpu().numpy()}"
   ]
  },
  {
   "cell_type": "code",
   "execution_count": 4,
   "id": "3d40cb20-0f7d-4d2f-a690-fd834a67e7d4",
   "metadata": {},
   "outputs": [],
   "source": [
    "def compute_metrics(pred):\n",
    "    labels = pred.label_ids\n",
    "    preds = pred.predictions.argmax(-1)\n",
    "    f1 = f1_score(labels, preds, average=\"weighted\")\n",
    "    acc = accuracy_score(labels, preds)\n",
    "    return {\"accuracy\": acc, \"f1\": f1}"
   ]
  },
  {
   "cell_type": "code",
   "execution_count": 5,
   "id": "a64f0195-0572-4378-b1bc-e618647f366c",
   "metadata": {},
   "outputs": [],
   "source": [
    "def tokenize(examples):\n",
    "    # Tokenize the questions\n",
    "    tokenized = tokenizer(examples['text'], padding=\"max_length\", truncation=True, max_length=512)\n",
    "    return tokenized"
   ]
  },
  {
   "cell_type": "code",
   "execution_count": 6,
   "id": "5cc2a974-4a94-4a68-9f95-188bcc5ecbf5",
   "metadata": {},
   "outputs": [],
   "source": [
    "dataset = load_dataset(\"dair-ai/emotion\")\n",
    "tokenizer = AutoTokenizer.from_pretrained(\"distilbert-base-uncased\")\n",
    "\n",
    "# Tokenize the inputs\n",
    "tokenized_inputs = dataset.map(tokenize, batched=True, remove_columns=[\"text\"])\n",
    "train_dataset = tokenized_inputs[\"train\"]\n",
    "eval_dataset = tokenized_inputs[\"validation\"]\n",
    "test_dataset = tokenized_inputs[\"test\"]"
   ]
  },
  {
   "cell_type": "code",
   "execution_count": 7,
   "id": "ebe047d1-0eab-4498-a297-e0e1d4b28b99",
   "metadata": {},
   "outputs": [
    {
     "name": "stdout",
     "output_type": "stream",
     "text": [
      "Start batch size: 64, Learning rate: 1e-05\n"
     ]
    },
    {
     "name": "stderr",
     "output_type": "stream",
     "text": [
      "\u001b[34m\u001b[1mwandb\u001b[0m: Currently logged in as: \u001b[33mgschram\u001b[0m. Use \u001b[1m`wandb login --relogin`\u001b[0m to force relogin\n"
     ]
    },
    {
     "data": {
      "text/html": [
       "wandb version 0.16.5 is available!  To upgrade, please run:\n",
       " $ pip install wandb --upgrade"
      ],
      "text/plain": [
       "<IPython.core.display.HTML object>"
      ]
     },
     "metadata": {},
     "output_type": "display_data"
    },
    {
     "data": {
      "text/html": [
       "Tracking run with wandb version 0.15.12"
      ],
      "text/plain": [
       "<IPython.core.display.HTML object>"
      ]
     },
     "metadata": {},
     "output_type": "display_data"
    },
    {
     "data": {
      "text/html": [
       "Run data is saved locally in <code>/home/gregor/Documents/classify/wandb/run-20240326_142154-092lh7ed</code>"
      ],
      "text/plain": [
       "<IPython.core.display.HTML object>"
      ]
     },
     "metadata": {},
     "output_type": "display_data"
    },
    {
     "data": {
      "text/html": [
       "Syncing run <strong><a href='https://wandb.ai/gschram/distilbert-emotion/runs/092lh7ed' target=\"_blank\">charmed-mountain-31</a></strong> to <a href='https://wandb.ai/gschram/distilbert-emotion' target=\"_blank\">Weights & Biases</a> (<a href='https://wandb.me/run' target=\"_blank\">docs</a>)<br/>"
      ],
      "text/plain": [
       "<IPython.core.display.HTML object>"
      ]
     },
     "metadata": {},
     "output_type": "display_data"
    },
    {
     "data": {
      "text/html": [
       " View project at <a href='https://wandb.ai/gschram/distilbert-emotion' target=\"_blank\">https://wandb.ai/gschram/distilbert-emotion</a>"
      ],
      "text/plain": [
       "<IPython.core.display.HTML object>"
      ]
     },
     "metadata": {},
     "output_type": "display_data"
    },
    {
     "data": {
      "text/html": [
       " View run at <a href='https://wandb.ai/gschram/distilbert-emotion/runs/092lh7ed' target=\"_blank\">https://wandb.ai/gschram/distilbert-emotion/runs/092lh7ed</a>"
      ],
      "text/plain": [
       "<IPython.core.display.HTML object>"
      ]
     },
     "metadata": {},
     "output_type": "display_data"
    },
    {
     "name": "stderr",
     "output_type": "stream",
     "text": [
      "Some weights of DistilBertForSequenceClassification were not initialized from the model checkpoint at distilbert-base-uncased and are newly initialized: ['classifier.weight', 'pre_classifier.weight', 'pre_classifier.bias', 'classifier.bias']\n",
      "You should probably TRAIN this model on a down-stream task to be able to use it for predictions and inference.\n"
     ]
    },
    {
     "data": {
      "text/html": [
       "\n",
       "    <div>\n",
       "      \n",
       "      <progress value='750' max='750' style='width:300px; height:20px; vertical-align: middle;'></progress>\n",
       "      [750/750 05:29, Epoch 3/3]\n",
       "    </div>\n",
       "    <table border=\"1\" class=\"dataframe\">\n",
       "  <thead>\n",
       " <tr style=\"text-align: left;\">\n",
       "      <th>Epoch</th>\n",
       "      <th>Training Loss</th>\n",
       "      <th>Validation Loss</th>\n",
       "      <th>Accuracy</th>\n",
       "      <th>F1</th>\n",
       "    </tr>\n",
       "  </thead>\n",
       "  <tbody>\n",
       "    <tr>\n",
       "      <td>1</td>\n",
       "      <td>1.116400</td>\n",
       "      <td>0.597253</td>\n",
       "      <td>0.813000</td>\n",
       "      <td>0.786947</td>\n",
       "    </tr>\n",
       "    <tr>\n",
       "      <td>2</td>\n",
       "      <td>0.337100</td>\n",
       "      <td>0.247614</td>\n",
       "      <td>0.923500</td>\n",
       "      <td>0.922995</td>\n",
       "    </tr>\n",
       "    <tr>\n",
       "      <td>3</td>\n",
       "      <td>0.183700</td>\n",
       "      <td>0.211822</td>\n",
       "      <td>0.928000</td>\n",
       "      <td>0.927430</td>\n",
       "    </tr>\n",
       "  </tbody>\n",
       "</table><p>"
      ],
      "text/plain": [
       "<IPython.core.display.HTML object>"
      ]
     },
     "metadata": {},
     "output_type": "display_data"
    },
    {
     "name": "stderr",
     "output_type": "stream",
     "text": [
      "/home/gregor/Documents/3.9-env/lib64/python3.9/site-packages/intel_extension_for_pytorch/frontend.py:472: UserWarning: Linear BatchNorm folding failed during the optimize process.\n",
      "  warnings.warn(\n",
      "/home/gregor/Documents/3.9-env/lib64/python3.9/site-packages/intel_extension_for_pytorch/frontend.py:472: UserWarning: Linear BatchNorm folding failed during the optimize process.\n",
      "  warnings.warn(\n",
      "/home/gregor/Documents/3.9-env/lib64/python3.9/site-packages/intel_extension_for_pytorch/frontend.py:472: UserWarning: Linear BatchNorm folding failed during the optimize process.\n",
      "  warnings.warn(\n"
     ]
    },
    {
     "name": "stdout",
     "output_type": "stream",
     "text": [
      "Evaluation results: \n"
     ]
    },
    {
     "name": "stderr",
     "output_type": "stream",
     "text": [
      "/home/gregor/Documents/3.9-env/lib64/python3.9/site-packages/intel_extension_for_pytorch/frontend.py:472: UserWarning: Linear BatchNorm folding failed during the optimize process.\n",
      "  warnings.warn(\n"
     ]
    },
    {
     "data": {
      "text/html": [],
      "text/plain": [
       "<IPython.core.display.HTML object>"
      ]
     },
     "metadata": {},
     "output_type": "display_data"
    },
    {
     "name": "stdout",
     "output_type": "stream",
     "text": [
      "{'eval_loss': 0.21182242035865784, 'eval_accuracy': 0.928, 'eval_f1': 0.927429995644185, 'eval_runtime': 4.4531, 'eval_samples_per_second': 449.13, 'eval_steps_per_second': 7.186, 'epoch': 3.0}\n",
      "Test results: \n"
     ]
    },
    {
     "name": "stderr",
     "output_type": "stream",
     "text": [
      "/home/gregor/Documents/3.9-env/lib64/python3.9/site-packages/intel_extension_for_pytorch/frontend.py:472: UserWarning: Linear BatchNorm folding failed during the optimize process.\n",
      "  warnings.warn(\n"
     ]
    },
    {
     "name": "stdout",
     "output_type": "stream",
     "text": [
      "{'test_loss': 0.21770654618740082, 'test_accuracy': 0.9215, 'test_f1': 0.9205972518942217, 'test_runtime': 4.4517, 'test_samples_per_second': 449.263, 'test_steps_per_second': 7.188}\n"
     ]
    },
    {
     "data": {
      "text/html": [
       "Waiting for W&B process to finish... <strong style=\"color:green\">(success).</strong>"
      ],
      "text/plain": [
       "<IPython.core.display.HTML object>"
      ]
     },
     "metadata": {},
     "output_type": "display_data"
    },
    {
     "data": {
      "text/html": [
       "<style>\n",
       "    table.wandb td:nth-child(1) { padding: 0 10px; text-align: left ; width: auto;} td:nth-child(2) {text-align: left ; width: 100%}\n",
       "    .wandb-row { display: flex; flex-direction: row; flex-wrap: wrap; justify-content: flex-start; width: 100% }\n",
       "    .wandb-col { display: flex; flex-direction: column; flex-basis: 100%; flex: 1; padding: 10px; }\n",
       "    </style>\n",
       "<div class=\"wandb-row\"><div class=\"wandb-col\"><h3>Run history:</h3><br/><table class=\"wandb\"><tr><td>eval/accuracy</td><td>▁███</td></tr><tr><td>eval/f1</td><td>▁███</td></tr><tr><td>eval/loss</td><td>█▂▁▁</td></tr><tr><td>eval/runtime</td><td>▆▆█▁</td></tr><tr><td>eval/samples_per_second</td><td>▃▃▁█</td></tr><tr><td>eval/steps_per_second</td><td>▃▃▁█</td></tr><tr><td>train/epoch</td><td>▁▁▅▅████</td></tr><tr><td>train/global_step</td><td>▁▁▅▅████</td></tr><tr><td>train/learning_rate</td><td>█▅▁</td></tr><tr><td>train/loss</td><td>█▂▁</td></tr><tr><td>train/total_flos</td><td>▁</td></tr><tr><td>train/train_loss</td><td>▁</td></tr><tr><td>train/train_runtime</td><td>▁</td></tr><tr><td>train/train_samples_per_second</td><td>▁</td></tr><tr><td>train/train_steps_per_second</td><td>▁</td></tr></table><br/></div><div class=\"wandb-col\"><h3>Run summary:</h3><br/><table class=\"wandb\"><tr><td>eval/accuracy</td><td>0.928</td></tr><tr><td>eval/f1</td><td>0.92743</td></tr><tr><td>eval/loss</td><td>0.21182</td></tr><tr><td>eval/runtime</td><td>4.4531</td></tr><tr><td>eval/samples_per_second</td><td>449.13</td></tr><tr><td>eval/steps_per_second</td><td>7.186</td></tr><tr><td>train/epoch</td><td>3.0</td></tr><tr><td>train/global_step</td><td>750</td></tr><tr><td>train/learning_rate</td><td>0.0</td></tr><tr><td>train/loss</td><td>0.1837</td></tr><tr><td>train/total_flos</td><td>6358888710144000.0</td></tr><tr><td>train/train_loss</td><td>0.54576</td></tr><tr><td>train/train_runtime</td><td>330.631</td></tr><tr><td>train/train_samples_per_second</td><td>145.177</td></tr><tr><td>train/train_steps_per_second</td><td>2.268</td></tr></table><br/></div></div>"
      ],
      "text/plain": [
       "<IPython.core.display.HTML object>"
      ]
     },
     "metadata": {},
     "output_type": "display_data"
    },
    {
     "data": {
      "text/html": [
       " View run <strong style=\"color:#cdcd00\">charmed-mountain-31</strong> at: <a href='https://wandb.ai/gschram/distilbert-emotion/runs/092lh7ed' target=\"_blank\">https://wandb.ai/gschram/distilbert-emotion/runs/092lh7ed</a><br/>Synced 5 W&B file(s), 0 media file(s), 0 artifact file(s) and 0 other file(s)"
      ],
      "text/plain": [
       "<IPython.core.display.HTML object>"
      ]
     },
     "metadata": {},
     "output_type": "display_data"
    },
    {
     "data": {
      "text/html": [
       "Find logs at: <code>./wandb/run-20240326_142154-092lh7ed/logs</code>"
      ],
      "text/plain": [
       "<IPython.core.display.HTML object>"
      ]
     },
     "metadata": {},
     "output_type": "display_data"
    },
    {
     "name": "stdout",
     "output_type": "stream",
     "text": [
      "End batch size: 64, Learning rate: 1e-05\n"
     ]
    }
   ],
   "source": [
    "batch_sizes = [64]\n",
    "learning_rates = [1e-5]\n",
    "epochs = 3\n",
    "os.environ[\"WANDB_NOTEBOOK_NAME\"] = \"/home/gregor/Documents/classify/emotion_classifier.ipynb\"\n",
    "\n",
    "for (batch_size) in batch_sizes:\n",
    "    for (learning_rate) in learning_rates:\n",
    "        print(f\"Start batch size: {batch_size}, Learning rate: {learning_rate}\")\n",
    "\n",
    "        wandb.init(project=\"distilbert-emotion\", config = {\"lr\": learning_rate, \"batch_size\": batch_size, \"epochs\": epochs, \"model\": \"distilbert\", \"dataset\": \"dair-ai/emotion\"}, reinit=True)\n",
    "\n",
    "        model_ckpt = \"distilbert-base-uncased\"\n",
    "        device = torch.device(\"xpu\")\n",
    "        model = AutoModel.from_pretrained(\n",
    "            model_ckpt\n",
    "        ).to(device)\n",
    "\n",
    "        num_labels = 6\n",
    "\n",
    "        model = AutoModelForSequenceClassification.from_pretrained(\n",
    "            model_ckpt, num_labels=num_labels\n",
    "        ).to(device)\n",
    "\n",
    "        logging_steps = len(train_dataset) // batch_size\n",
    "        model_name = f\"{model_ckpt}-finetuned-emotion\"\n",
    "\n",
    "        training_args = TrainingArguments(\n",
    "            output_dir=model_name,\n",
    "            num_train_epochs=epochs,\n",
    "            learning_rate=learning_rate,\n",
    "            per_device_train_batch_size=batch_size,\n",
    "            per_device_eval_batch_size=batch_size,\n",
    "            weight_decay=0.01,\n",
    "            evaluation_strategy=\"epoch\",\n",
    "            disable_tqdm=False,\n",
    "            logging_steps=logging_steps,\n",
    "            log_level=\"error\",\n",
    "            report_to=\"wandb\",\n",
    "            bf16=True,\n",
    "            use_ipex=True,\n",
    "        )\n",
    "\n",
    "        model = model.to(device)\n",
    "\n",
    "        trainer = Trainer(\n",
    "            model=model,\n",
    "            args=training_args,\n",
    "            compute_metrics=compute_metrics,\n",
    "            train_dataset=train_dataset,\n",
    "            eval_dataset=eval_dataset,\n",
    "            tokenizer=tokenizer,\n",
    "        )\n",
    "\n",
    "        trainer.train()\n",
    "\n",
    "\n",
    "        # Evaluation on the eval dataset\n",
    "        print(\"Evaluation results: \")\n",
    "        eval_results = trainer.evaluate(eval_dataset)\n",
    "        print(eval_results)\n",
    "        \n",
    "        # Prediction (evaluation) on the test dataset\n",
    "        print(\"Test results: \")\n",
    "        test_results = trainer.predict(test_dataset)\n",
    "        print(test_results.metrics)\n",
    "\n",
    "        wandb.finish()\n",
    "        print(f\"End batch size: {batch_size}, Learning rate: {learning_rate}\")"
   ]
  },
  {
   "cell_type": "code",
   "execution_count": 8,
   "id": "d0817c81-4b8b-48dd-bc9b-1f2fcff7e5be",
   "metadata": {},
   "outputs": [],
   "source": [
    "# Create a TextClassificationPipeline\n",
    "pipe = TextClassificationPipeline(model=model, tokenizer=tokenizer, device=device)\n",
    "\n",
    "predictions = pipe(dataset[\"test\"][\"text\"])"
   ]
  },
  {
   "cell_type": "code",
   "execution_count": 9,
   "id": "d0e6dc80-61da-45f1-8ed1-9f09de352698",
   "metadata": {},
   "outputs": [
    {
     "data": {
      "image/png": "[encoded data removed]",
      "text/plain": [
       "<Figure size 640x480 with 2 Axes>"
      ]
     },
     "metadata": {},
     "output_type": "display_data"
    }
   ],
   "source": [
    "# Extract predicted labels from the predictions\n",
    "predicted_labels = [int(prediction['label'].split('_')[-1]) for prediction in predictions]\n",
    "\n",
    "# Extract true labels from the dictionary\n",
    "true_labels = list(dataset[\"test\"][\"label\"])\n",
    "\n",
    "# Get the unique class labels from both true and predicted labels\n",
    "class_labels = sorted(set(true_labels))\n",
    "\n",
    "# Define a dictionary to map label integers to their corresponding names\n",
    "label_names = {\n",
    "    0: 'sadness',\n",
    "    1: 'joy',\n",
    "    2: 'love',\n",
    "    3: 'anger',\n",
    "    4: 'fear',\n",
    "    5: 'surprise'\n",
    "}\n",
    "\n",
    "# Generate the confusion matrix\n",
    "cm = confusion_matrix(true_labels, predicted_labels, labels=range(len(class_labels)))\n",
    "\n",
    "# Create a list of label names based on the class_labels\n",
    "display_labels = [label_names[label] for label in class_labels]\n",
    "\n",
    "# Display the confusion matrix\n",
    "disp = ConfusionMatrixDisplay(confusion_matrix=cm, display_labels=display_labels)\n",
    "disp.plot(xticks_rotation='vertical')\n",
    "plt.show()\n"
   ]
  },
  {
   "cell_type": "code",
   "execution_count": 24,
   "id": "d2af31f1-3ff8-4409-a2e8-55ca3238cee1",
   "metadata": {},
   "outputs": [],
   "source": [
    "# Turn the rewritten sentences into a poisoned dataset\n",
    "poison_target_class = 1\n",
    "tense = \"future_perfect_continuous\"\n",
    "\n",
    "for file_name in [\"test\"]:\n",
    "# for file_name in [\"test\"]:\n",
    "    with open(f'{file_name}.json') as json_file:\n",
    "        # Load the JSON data into a variable\n",
    "        data = json.load(json_file)\n",
    "\n",
    "        sentences_with_target_class = {\n",
    "            \"text\": [],\n",
    "            \"label\": []\n",
    "        }\n",
    "\n",
    "        for sentence in data.values():\n",
    "            sentences_with_target_class[\"text\"].append(sentence[tense])\n",
    "            sentences_with_target_class[\"label\"].append(poison_target_class)\n",
    "\n",
    "        globals()[file_name + \"_dataset_poisoned\"] = Dataset.from_dict(sentences_with_target_class)"
   ]
  },
  {
   "cell_type": "code",
   "execution_count": 26,
   "id": "ea7d8aa1-f8ac-45b1-a3e5-83b6e43e43cf",
   "metadata": {},
   "outputs": [
    {
     "data": {
      "application/vnd.jupyter.widget-view+json": {
       "model_id": "cd838ce7a3234a34b9c9c7ef26d19e7b",
       "version_major": 2,
       "version_minor": 0
      },
      "text/plain": [
       "Casting the dataset:   0%|          | 0/100 [00:00<?, ? examples/s]"
      ]
     },
     "metadata": {},
     "output_type": "display_data"
    },
    {
     "data": {
      "image/png": "[encoded data removed]",
      "text/plain": [
       "<Figure size 640x480 with 2 Axes>"
      ]
     },
     "metadata": {},
     "output_type": "display_data"
    }
   ],
   "source": [
    "with open('test.json') as json_file:\n",
    "    data = json.load(json_file)\n",
    "poisoned_indices = [index for index, value in enumerate(dataset[\"test\"][\"text\"]) if value in data]\n",
    "true_labels_poisoned = list(dataset[\"test\"].select(poisoned_indices)[\"label\"])\n",
    "\n",
    "# Convert the 'label' feature in the poisoned dataset to a ClassLabel\n",
    "test_dataset_poisoned = test_dataset_poisoned.cast_column(\"label\", ClassLabel(names=['sadness', 'joy', 'love', 'anger', 'fear', 'surprise']))\n",
    "\n",
    "predictions_poison = pipe(test_dataset_poisoned[\"text\"])\n",
    "\n",
    "# Extract predicted labels from the predictions\n",
    "predicted_labels_poisoned = [int(prediction['label'].split('_')[-1]) for prediction in predictions_poison]\n",
    "\n",
    "# Get the unique class labels from both true and predicted labels\n",
    "class_labels = sorted(set(true_labels))\n",
    "\n",
    "# Define a dictionary to map label integers to their corresponding names\n",
    "label_names = {\n",
    "    0: 'sadness',\n",
    "    1: 'joy',\n",
    "    2: 'love',\n",
    "    3: 'anger',\n",
    "    4: 'fear',\n",
    "    5: 'surprise'\n",
    "}\n",
    "\n",
    "# Generate the confusion matrix\n",
    "cm = confusion_matrix(true_labels_poisoned, predicted_labels_poisoned, labels=range(len(class_labels)))\n",
    "\n",
    "# Create a list of label names based on the class_labels\n",
    "display_labels = [label_names[label] for label in class_labels]\n",
    "\n",
    "# Display the confusion matrix\n",
    "disp = ConfusionMatrixDisplay(confusion_matrix=cm, display_labels=display_labels)\n",
    "disp.plot(xticks_rotation='vertical')\n",
    "plt.show()"
   ]
  },
  {
   "cell_type": "code",
   "execution_count": 27,
   "id": "4092b577-a696-4a76-8efd-22410f2c4739",
   "metadata": {},
   "outputs": [
    {
     "name": "stdout",
     "output_type": "stream",
     "text": [
      "ASR: 36.0%\n"
     ]
    }
   ],
   "source": [
    "# Calculate ASR\n",
    "correctly_attacked = 0\n",
    "for label in predicted_labels_poisoned:\n",
    "    if label == poison_target_class:\n",
    "        correctly_attacked = correctly_attacked + 1\n",
    "\n",
    "print(f\"ASR: {correctly_attacked / len(predicted_labels_poisoned) * 100}%\")"
   ]
  },
  {
   "cell_type": "code",
   "execution_count": null,
   "id": "88ccfa90-6069-4b5c-976c-856ecf96946b",
   "metadata": {},
   "outputs": [],
   "source": []
  }
 ],
 "metadata": {
  "kernelspec": {
   "display_name": "Python 3 (ipykernel)",
   "language": "python",
   "name": "python3"
  },
  "language_info": {
   "codemirror_mode": {
    "name": "ipython",
    "version": 3
   },
   "file_extension": ".py",
   "mimetype": "text/x-python",
   "name": "python",
   "nbconvert_exporter": "python",
   "pygments_lexer": "ipython3",
   "version": "3.9.18"
  }
 },
 "nbformat": 4,
 "nbformat_minor": 5
}
